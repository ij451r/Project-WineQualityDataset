{
 "cells": [
  {
   "cell_type": "code",
   "execution_count": 1,
   "id": "bcf69c92-974d-4024-a703-ee6c1df7ed45",
   "metadata": {},
   "outputs": [],
   "source": [
    "d = {\n",
    "    \"key1\":\"val1\",\n",
    "    \"key2\":\"val2\"\n",
    "}"
   ]
  },
  {
   "cell_type": "code",
   "execution_count": 3,
   "id": "a4dcf48b-a4c9-42ae-86fb-c2962a89fbfa",
   "metadata": {},
   "outputs": [
    {
     "data": {
      "text/plain": [
       "'val1'"
      ]
     },
     "execution_count": 3,
     "metadata": {},
     "output_type": "execute_result"
    }
   ],
   "source": [
    "d[\"key1\"]"
   ]
  },
  {
   "cell_type": "code",
   "execution_count": 8,
   "id": "c91fa860-dae9-40a8-8e0f-d54cc157c8f6",
   "metadata": {},
   "outputs": [
    {
     "data": {
      "text/plain": [
       "('val1', box.config_box.ConfigBox)"
      ]
     },
     "execution_count": 8,
     "metadata": {},
     "output_type": "execute_result"
    }
   ],
   "source": [
    "from box import ConfigBox\n",
    "d2 = ConfigBox(d)\n",
    "d2.key1, type(d2)"
   ]
  },
  {
   "cell_type": "code",
   "execution_count": 9,
   "id": "5d3eac48-b2bb-4429-b5b0-ce56573b70be",
   "metadata": {},
   "outputs": [],
   "source": [
    "def get_product(x:int, y:int) -> int:\n",
    "    return x*y"
   ]
  },
  {
   "cell_type": "code",
   "execution_count": 11,
   "id": "fa73f13f-66de-4619-a434-d936c142736e",
   "metadata": {},
   "outputs": [
    {
     "data": {
      "text/plain": [
       "2"
      ]
     },
     "execution_count": 11,
     "metadata": {},
     "output_type": "execute_result"
    }
   ],
   "source": [
    "get_product(1, 2)"
   ]
  },
  {
   "cell_type": "code",
   "execution_count": 12,
   "id": "665df14f-1dac-4093-aab5-0996f13824de",
   "metadata": {},
   "outputs": [
    {
     "data": {
      "text/plain": [
       "'2'"
      ]
     },
     "execution_count": 12,
     "metadata": {},
     "output_type": "execute_result"
    }
   ],
   "source": [
    "get_product(2, \"2\")"
   ]
  },
  {
   "cell_type": "code",
   "execution_count": 13,
   "id": "f8d7b455-4a73-4784-826a-99ed92cb89ff",
   "metadata": {},
   "outputs": [],
   "source": [
    "from ensure import ensure_annotations\n",
    "\n",
    "@ensure_annotations\n",
    "def get_product(x:int, y:int) -> int:\n",
    "    return x*y"
   ]
  },
  {
   "cell_type": "code",
   "execution_count": 15,
   "id": "7466ca86-7fc3-446b-9bc9-d3a6504a7975",
   "metadata": {},
   "outputs": [
    {
     "name": "stdout",
     "output_type": "stream",
     "text": [
      "Argument y of type <class 'str'> to <function get_product at 0x000002CF163BD6C0> does not match annotation type <class 'int'>\n"
     ]
    }
   ],
   "source": [
    "try:\n",
    "    get_product(2, \"2\")\n",
    "except Exception as e:\n",
    "    print(e)"
   ]
  },
  {
   "cell_type": "code",
   "execution_count": null,
   "id": "7a2af561-3467-4b49-9638-ffc7a3a87395",
   "metadata": {},
   "outputs": [],
   "source": []
  }
 ],
 "metadata": {
  "kernelspec": {
   "display_name": "Python 3 (ipykernel)",
   "language": "python",
   "name": "python3"
  },
  "language_info": {
   "codemirror_mode": {
    "name": "ipython",
    "version": 3
   },
   "file_extension": ".py",
   "mimetype": "text/x-python",
   "name": "python",
   "nbconvert_exporter": "python",
   "pygments_lexer": "ipython3",
   "version": "3.11.5"
  }
 },
 "nbformat": 4,
 "nbformat_minor": 5
}
