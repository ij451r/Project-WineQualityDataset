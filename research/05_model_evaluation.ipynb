{
 "cells": [
  {
   "cell_type": "code",
   "execution_count": 1,
   "id": "ea93fcd2-79ac-463a-bb99-6620e2501cc8",
   "metadata": {},
   "outputs": [
    {
     "data": {
      "text/plain": [
       "'D:\\\\projects\\\\Project-WineQualityDataset'"
      ]
     },
     "execution_count": 1,
     "metadata": {},
     "output_type": "execute_result"
    }
   ],
   "source": [
    "import os\n",
    "os.chdir('../')\n",
    "%pwd"
   ]
  },
  {
   "cell_type": "code",
   "execution_count": 45,
   "id": "aa09de13-4a86-4f77-9b40-e04f5d454fa7",
   "metadata": {},
   "outputs": [],
   "source": [
    "os.environ[\"MLFLOW_TRACKING_URI\"] = \"https://dagshub.com/ij451r/Project-WineQualityDataset.mlflow\" \n",
    "os.environ[\"MLFLOW_TRACKING_USERNAME\"]=\"ij451r\"\n",
    "os.environ[\"MLFLOW_TRACKING_PASSWORD\"]=\"cedc8e6cef3cb8ab1d4b37a9e530a44cedd8a1bb\""
   ]
  },
  {
   "cell_type": "code",
   "execution_count": 8,
   "id": "44ebf059-585b-471d-bd10-7506f5fc8977",
   "metadata": {},
   "outputs": [],
   "source": [
    "MLFLOW_TRACKING_URI=\"https://dagshub.com/ij451r/Project-WineQualityDataset.mlflow\" \n",
    "MLFLOW_TRACKING_USERNAME=\"ij451r\"\n",
    "MLFLOW_TRACKING_PASSWORD=\"cedc8e6cef3cb8ab1d4b37a9e530a44cedd8a1bb\""
   ]
  },
  {
   "cell_type": "code",
   "execution_count": 9,
   "id": "70135d20-116d-457c-a2c8-f4174267754e",
   "metadata": {},
   "outputs": [],
   "source": [
    "from dataclasses import dataclass\n",
    "from pathlib import Path\n",
    "\n",
    "@dataclass(frozen=True)\n",
    "class ModelEvaluationConfig:\n",
    "    root_dir: Path\n",
    "    x_test_data_path: Path\n",
    "    y_test_data_path: Path\n",
    "    model_path: Path\n",
    "    metric_file_name: Path\n",
    "    all_params: dict\n",
    "    target_column: str\n",
    "    mlflow_uri: str"
   ]
  },
  {
   "cell_type": "code",
   "execution_count": 68,
   "id": "719d58d6-5122-47ab-9d75-e7968ea792f7",
   "metadata": {},
   "outputs": [],
   "source": [
    "from WineQuality.constants import * \n",
    "from WineQuality.utils.common import read_yaml, create_directories\n",
    "\n",
    "class ConfigurationManager:\n",
    "    def __init__(self , config_filepath = CONFIG_FILE_PATH , params_filepath = PARAMS_FILE_PATH , schema_filepath = SCHEMA_FILE_PATH,):\n",
    "        \n",
    "        self.config = read_yaml(config_filepath)\n",
    "        self.params = read_yaml(params_filepath)\n",
    "        self.schema = read_yaml(schema_filepath)\n",
    "        \n",
    "        create_directories([self.config.artifacts_root])\n",
    "\n",
    "    def get_model_evaluation_config(self) -> ModelEvaluationConfig:\n",
    "        config = self.config.model_evaluation\n",
    "        params = self.params\n",
    "        schema = self.schema.TARGET_COLUMN\n",
    "        \n",
    "        create_directories([config.root_dir])\n",
    "        \n",
    "        model_evaluation_config = ModelEvaluationConfig(\n",
    "            root_dir = config.root_dir,\n",
    "            x_test_data_path = config.x_test_data_path,\n",
    "            y_test_data_path = config.y_test_data_path,\n",
    "            model_path = config.model_path,\n",
    "            metric_file_name = config.metric_file_name,\n",
    "            all_params = params.ElasticNet,\n",
    "            target_column = schema.name,\n",
    "            mlflow_uri = MLFLOW_TRACKING_URI,\n",
    "        )\n",
    "\n",
    "        return model_evaluation_config\n",
    "        "
   ]
  },
  {
   "cell_type": "code",
   "execution_count": 71,
   "id": "17137016-7b56-4067-971f-a95eac98bd91",
   "metadata": {},
   "outputs": [],
   "source": [
    "import os\n",
    "import pandas as pd\n",
    "from sklearn.metrics import mean_squared_error, mean_absolute_error, r2_score\n",
    "from urllib.parse import urlparse\n",
    "import mlflow\n",
    "import mlflow.sklearn\n",
    "from mlflow.models import infer_signature\n",
    "import numpy as np\n",
    "import joblib\n",
    "from WineQuality.utils.common import save_json\n",
    "from pathlib import Path\n",
    "\n",
    "\n",
    "class ModelEvaluation:\n",
    "    def __init__(self, config = ModelEvaluationConfig):\n",
    "        self.config = config\n",
    "    def eval_metrics(self, actual, pred):\n",
    "        rmse = np.sqrt(mean_squared_error(actual, pred))\n",
    "        mae = mean_absolute_error(actual, pred)\n",
    "        r2 = r2_score(actual, pred)\n",
    "        return rmse, mae, r2\n",
    "    def log_into_mlflow(self):\n",
    "        model = joblib.load(self.config.model_path)\n",
    "        \n",
    "        X_test = pd.read_csv(self.config.x_test_data_path)\n",
    "        Y_test = pd.read_csv(self.config.y_test_data_path)\n",
    "        \n",
    "        mlflow.set_registry_uri(self.config.mlflow_uri)\n",
    "        tracking_url_type_store = urlparse(mlflow.get_tracking_uri()).scheme\n",
    "\n",
    "        with mlflow.start_run():\n",
    "            qualities_pred = model.predict(X_test)\n",
    "            signature = infer_signature(X_test, qualities_pred)\n",
    "            (rmse, mae, r2) = self.eval_metrics(Y_test, qualities_pred)\n",
    "            scores = {\n",
    "                \"rmse\":rmse,\n",
    "                \"mae\":mae,\n",
    "                \"r2\":r2\n",
    "            }\n",
    "            save_json(path=Path(self.config.metric_file_name),data=scores)\n",
    "\n",
    "            mlflow.log_params(self.config.all_params)\n",
    "            mlflow.log_metric(\"rmse\",rmse)\n",
    "            mlflow.log_metric(\"mae\",mae)\n",
    "            mlflow.log_metric(\"r2\",r2)\n",
    "            mlflow.sklearn.log_model(model, \"model\")\n",
    "            # mlflow.sklearn.log_model(\n",
    "            #     model,\n",
    "            #     artifact_path = \"sklearn-model\",\n",
    "            #     signature = signature,\n",
    "            #     registered_model_name=\"sk-learn-elastic-net-model\",\n",
    "            # )\n",
    "            "
   ]
  },
  {
   "cell_type": "code",
   "execution_count": 73,
   "id": "60368dc5-7d9c-4b73-85f4-70f40c14442e",
   "metadata": {},
   "outputs": [
    {
     "name": "stdout",
     "output_type": "stream",
     "text": [
      "[2023-09-30 16:49:53,111: INFO: common: yaml file: config\\config.yaml loaded successfully]\n",
      "[2023-09-30 16:49:53,113: INFO: common: yaml file: params.yaml loaded successfully]\n",
      "[2023-09-30 16:49:53,116: INFO: common: yaml file: schema.yaml loaded successfully]\n",
      "[2023-09-30 16:49:53,118: INFO: common: Directory Created: artifacts]\n",
      "[2023-09-30 16:49:53,119: INFO: common: Directory Created: artifacts/model_evaluation]\n",
      "[2023-09-30 16:49:54,219: INFO: common: json file saved at artifacts\\model_evaluation\\metrics.json]\n",
      "{'alpha': 0.5, 'l1_ratio': 0.01}\n"
     ]
    }
   ],
   "source": [
    "try:\n",
    "    config = ConfigurationManager()\n",
    "    model_evaluation_config = config.get_model_evaluation_config()\n",
    "    model_evaluation = ModelEvaluation(config = model_evaluation_config)\n",
    "    model_evaluation.log_into_mlflow()\n",
    "except Exception as e:\n",
    "    raise e"
   ]
  },
  {
   "cell_type": "code",
   "execution_count": null,
   "id": "595b7fb0-ad34-4ab6-8269-4328007739cf",
   "metadata": {},
   "outputs": [],
   "source": []
  }
 ],
 "metadata": {
  "kernelspec": {
   "display_name": "Python 3 (ipykernel)",
   "language": "python",
   "name": "python3"
  },
  "language_info": {
   "codemirror_mode": {
    "name": "ipython",
    "version": 3
   },
   "file_extension": ".py",
   "mimetype": "text/x-python",
   "name": "python",
   "nbconvert_exporter": "python",
   "pygments_lexer": "ipython3",
   "version": "3.11.5"
  }
 },
 "nbformat": 4,
 "nbformat_minor": 5
}
