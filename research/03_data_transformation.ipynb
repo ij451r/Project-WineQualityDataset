{
 "cells": [
  {
   "cell_type": "code",
   "execution_count": 1,
   "id": "4da4b4f3-6748-4f60-9835-d79de40b0a46",
   "metadata": {},
   "outputs": [
    {
     "data": {
      "text/plain": [
       "'D:\\\\projects\\\\Project-WineQualityDataset'"
      ]
     },
     "execution_count": 1,
     "metadata": {},
     "output_type": "execute_result"
    }
   ],
   "source": [
    "import os\n",
    "os.chdir('../')\n",
    "%pwd"
   ]
  },
  {
   "cell_type": "code",
   "execution_count": 2,
   "id": "bf6b69e7-3ad2-4ed3-ae1d-0d306b2a9991",
   "metadata": {},
   "outputs": [
    {
     "data": {
      "text/plain": [
       "Index(['fixed acidity', 'volatile acidity', 'citric acid', 'residual sugar',\n",
       "       'chlorides', 'free sulfur dioxide', 'total sulfur dioxide', 'density',\n",
       "       'pH', 'sulphates', 'alcohol', 'quality', 'Id'],\n",
       "      dtype='object')"
      ]
     },
     "execution_count": 2,
     "metadata": {},
     "output_type": "execute_result"
    }
   ],
   "source": [
    "import pandas as pd\n",
    "df = pd.read_csv('artifacts/data_ingestion/WineQT.csv')\n",
    "df.columns"
   ]
  },
  {
   "cell_type": "code",
   "execution_count": 37,
   "id": "05182a41-a13a-49db-9cf1-eeb001b0584d",
   "metadata": {},
   "outputs": [],
   "source": [
    "from dataclasses import dataclass\n",
    "from pathlib import Path\n",
    "\n",
    "@dataclass(frozen=True)\n",
    "class DataTransformationConfig:\n",
    "    root_dir: Path\n",
    "    data_path: Path\n",
    "    STATUS_FILE: Path"
   ]
  },
  {
   "cell_type": "code",
   "execution_count": 38,
   "id": "0e0cd140-7e0c-49a1-a46f-cda55b0625d4",
   "metadata": {},
   "outputs": [],
   "source": [
    "from WineQuality.constants import * \n",
    "from WineQuality.utils.common import read_yaml, create_directories\n",
    "\n",
    "class ConfigurationManager:\n",
    "    def __init__(self , config_filepath = CONFIG_FILE_PATH , params_filepath = PARAMS_FILE_PATH , schema_filepath = SCHEMA_FILE_PATH,):\n",
    "        \n",
    "        self.config = read_yaml(config_filepath)\n",
    "        self.params = read_yaml(params_filepath)\n",
    "        self.schema = read_yaml(schema_filepath)\n",
    "        \n",
    "        create_directories([self.config.artifacts_root])\n",
    "\n",
    "    def get_data_transformation_config(self) -> DataTransformationConfig:\n",
    "        config = self.config.data_transformation\n",
    "        \n",
    "        create_directories([config.root_dir])\n",
    "        \n",
    "        data_transformation_config = DataTransformationConfig(\n",
    "            root_dir = config.root_dir,\n",
    "            data_path = config.data_path,\n",
    "            STATUS_FILE = config.STATUS_FILE\n",
    "        )\n",
    "        return data_transformation_config\n",
    "        "
   ]
  },
  {
   "cell_type": "code",
   "execution_count": 78,
   "id": "4166e741-6bb2-4b97-97fe-a9ea484ea667",
   "metadata": {},
   "outputs": [],
   "source": [
    "import os\n",
    "from WineQuality import logger\n",
    "import pandas as pd\n",
    "from sklearn.preprocessing import StandardScaler\n",
    "from sklearn.model_selection import train_test_split\n",
    "\n",
    "class DataTransformation:\n",
    "    def __init__(self, config = DataTransformationConfig):\n",
    "        self.config = config\n",
    "        self.df = pd.read_csv(self.config.data_path)\n",
    "\n",
    "    def drop_non_validated_columns(self):\n",
    "        with open(self.config.STATUS_FILE, 'r') as status_file:\n",
    "            for validation in status_file:\n",
    "                if validation.split(' ')[2] == 'False':\n",
    "                    column = ' '.join(validation.split(' ')[5:]).rstrip() \n",
    "                    self.df.drop(columns=[column], inplace=True)\n",
    "                    logger.info(f\"Dropped Column {column} as it did not pass validation\")\n",
    "    \n",
    "    def train_test_split(self):\n",
    "        scaler = StandardScaler()\n",
    "        X = self.df.iloc[:,:11]\n",
    "        Y = self.df.iloc[:,-1]\n",
    "\n",
    "        X_train, X_test, Y_train, Y_test = train_test_split(X , Y, test_size=0.2, random_state=22)\n",
    "        X_train.to_csv(os.path.join(self.config.root_dir,\"X_train\" ), index = False)\n",
    "        X_test.to_csv(os.path.join(self.config.root_dir,\"X_test\"), index = False)\n",
    "        Y_train.to_csv(os.path.join(self.config.root_dir,\"Y_train\"), index = False)\n",
    "        Y_test.to_csv(os.path.join(self.config.root_dir,\"Y_test\"), index = False)\n",
    "\n",
    "        logger.info(f\"Data splitted into X_train, X_test, Y_train, Y_test\")\n",
    "        logger.info(f\"X_train.shape: {X_train.shape}\")\n",
    "        logger.info(f\"X_test.shape: {X_test.shape}\")\n",
    "        logger.info(f\"Y_train.shape: {Y_train.shape}\")\n",
    "        logger.info(f\"Y_test.shape: {Y_test.shape}\")\n",
    "        \n",
    "        "
   ]
  },
  {
   "cell_type": "code",
   "execution_count": 79,
   "id": "802cc286-8bee-4fb8-bd48-12a8ea9e0bd9",
   "metadata": {},
   "outputs": [
    {
     "name": "stdout",
     "output_type": "stream",
     "text": [
      "[2023-09-30 11:06:40,003: INFO: common: yaml file: config\\config.yaml loaded successfully]\n",
      "[2023-09-30 11:06:40,005: INFO: common: yaml file: params.yaml loaded successfully]\n",
      "[2023-09-30 11:06:40,008: INFO: common: yaml file: schema.yaml loaded successfully]\n",
      "[2023-09-30 11:06:40,009: INFO: common: Directory Created: artifacts]\n",
      "[2023-09-30 11:06:40,010: INFO: common: Directory Created: artifacts/data_transformation]\n",
      "[2023-09-30 11:06:40,015: INFO: 387226558: Dropped Column Id as it did not pass validation]\n",
      "[2023-09-30 11:06:40,037: INFO: 387226558: Data splitted into X_train, X_test, Y_train, Y_test]\n",
      "[2023-09-30 11:06:40,039: INFO: 387226558: X_train.shape: (914, 11)]\n",
      "[2023-09-30 11:06:40,060: INFO: 387226558: X_test.shape: (229, 11)]\n",
      "[2023-09-30 11:06:40,064: INFO: 387226558: Y_train.shape: (914,)]\n",
      "[2023-09-30 11:06:40,065: INFO: 387226558: Y_test.shape: (229,)]\n"
     ]
    }
   ],
   "source": [
    "try:\n",
    "    config = ConfigurationManager()\n",
    "    data_transformation_config = config.get_data_transformation_config()\n",
    "    data_transformation = DataTransformation(config = data_transformation_config)\n",
    "    data_transformation.drop_non_validated_columns()\n",
    "    data_transformation.train_test_split()\n",
    "except Exception as e:\n",
    "    raise e"
   ]
  },
  {
   "cell_type": "code",
   "execution_count": null,
   "id": "64d3d73f-1a34-444b-b5d8-5672f63ce498",
   "metadata": {},
   "outputs": [],
   "source": []
  }
 ],
 "metadata": {
  "kernelspec": {
   "display_name": "Python 3 (ipykernel)",
   "language": "python",
   "name": "python3"
  },
  "language_info": {
   "codemirror_mode": {
    "name": "ipython",
    "version": 3
   },
   "file_extension": ".py",
   "mimetype": "text/x-python",
   "name": "python",
   "nbconvert_exporter": "python",
   "pygments_lexer": "ipython3",
   "version": "3.11.5"
  }
 },
 "nbformat": 4,
 "nbformat_minor": 5
}
