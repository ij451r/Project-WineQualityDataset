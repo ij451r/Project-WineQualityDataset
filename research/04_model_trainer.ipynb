{
 "cells": [
  {
   "cell_type": "code",
   "execution_count": 1,
   "id": "0523923a-e31d-40bc-a1cf-d767faab1727",
   "metadata": {},
   "outputs": [
    {
     "data": {
      "text/plain": [
       "'D:\\\\projects\\\\Project-WineQualityDataset'"
      ]
     },
     "execution_count": 1,
     "metadata": {},
     "output_type": "execute_result"
    }
   ],
   "source": [
    "import os\n",
    "os.chdir('../')\n",
    "%pwd"
   ]
  },
  {
   "cell_type": "code",
   "execution_count": 2,
   "id": "eaba8cae-186b-40e2-8efb-fb516d286f1e",
   "metadata": {},
   "outputs": [],
   "source": [
    "from dataclasses import dataclass\n",
    "from pathlib import Path\n",
    "\n",
    "@dataclass(frozen=True)\n",
    "class ModelTrainerConfig:\n",
    "    root_dir: Path\n",
    "    x_train_data_path: Path\n",
    "    y_train_data_path: Path\n",
    "    model_name: str\n",
    "    alpha: float\n",
    "    l1_ratio: float"
   ]
  },
  {
   "cell_type": "code",
   "execution_count": 3,
   "id": "31daa83e-e963-4072-b3d0-4c20c330d9d9",
   "metadata": {},
   "outputs": [],
   "source": [
    "from WineQuality.constants import * \n",
    "from WineQuality.utils.common import read_yaml, create_directories\n",
    "\n",
    "class ConfigurationManager:\n",
    "    def __init__(self , config_filepath = CONFIG_FILE_PATH , params_filepath = PARAMS_FILE_PATH , schema_filepath = SCHEMA_FILE_PATH,):\n",
    "        \n",
    "        self.config = read_yaml(config_filepath)\n",
    "        self.params = read_yaml(params_filepath)\n",
    "        self.schema = read_yaml(schema_filepath)\n",
    "        \n",
    "        create_directories([self.config.artifacts_root])\n",
    "\n",
    "    def get_model_trainer_config(self) -> ModelTrainerConfig:\n",
    "        config = self.config.model_trainer\n",
    "        params = self.params.ElasticNet\n",
    "        schema = self.schema.TARGET_COLUMN\n",
    "        \n",
    "        create_directories([config.root_dir])\n",
    "        \n",
    "        model_trainer_config = ModelTrainerConfig(\n",
    "            root_dir = config.root_dir,\n",
    "            x_train_data_path = config.x_train_data_path,\n",
    "            y_train_data_path = config.y_train_data_path,\n",
    "            model_name = config.model_name,\n",
    "            alpha = params.alpha,\n",
    "            l1_ratio = params.l1_ratio,\n",
    "        )\n",
    "        return model_trainer_config\n",
    "        "
   ]
  },
  {
   "cell_type": "code",
   "execution_count": 10,
   "id": "007f2e38-dc64-48b2-9d80-341117dd0251",
   "metadata": {},
   "outputs": [],
   "source": [
    "import os\n",
    "from WineQuality import logger\n",
    "import pandas as pd\n",
    "from sklearn.linear_model import ElasticNet\n",
    "import joblib\n",
    "\n",
    "\n",
    "class ModelTrainer:\n",
    "    def __init__(self, config = ModelTrainerConfig):\n",
    "        self.config = config\n",
    "\n",
    "    def train(self):\n",
    "        X_train = pd.read_csv(self.config.x_train_data_path)\n",
    "        Y_train = pd.read_csv(self.config.y_train_data_path)\n",
    "\n",
    "        model = ElasticNet(alpha = self.config.alpha, l1_ratio = self.config.l1_ratio, random_state=42)\n",
    "        model.fit(X_train, Y_train)\n",
    "\n",
    "        joblib.dump(model, os.path.join(self.config.root_dir, self.config.model_name))\n",
    "        logger.info(f\"Model: {self.config.model_name} trained and saved in {self.config.root_dir}\")"
   ]
  },
  {
   "cell_type": "code",
   "execution_count": 11,
   "id": "24ff2327-2054-41b2-aa45-24cde4d57ad4",
   "metadata": {},
   "outputs": [
    {
     "name": "stdout",
     "output_type": "stream",
     "text": [
      "[2023-09-30 12:21:51,693: INFO: common: yaml file: config\\config.yaml loaded successfully]\n",
      "[2023-09-30 12:21:51,695: INFO: common: yaml file: params.yaml loaded successfully]\n",
      "[2023-09-30 12:21:51,699: INFO: common: yaml file: schema.yaml loaded successfully]\n",
      "[2023-09-30 12:21:51,700: INFO: common: Directory Created: artifacts]\n",
      "[2023-09-30 12:21:51,702: INFO: common: Directory Created: artifacts/model_trainer]\n",
      "[2023-09-30 12:21:51,719: INFO: 384018624: Model: model.joblib trained and saved in artifacts/model_trainer]\n"
     ]
    }
   ],
   "source": [
    "try:\n",
    "    config = ConfigurationManager()\n",
    "    model_config = config.get_model_trainer_config()\n",
    "    model_trainer = ModelTrainer(config=model_config)\n",
    "    model_trainer.train()\n",
    "except Exception as e:\n",
    "    raise e\n",
    "    "
   ]
  },
  {
   "cell_type": "code",
   "execution_count": null,
   "id": "ca9a69d9-1040-4e08-a4d7-59f5e612ea98",
   "metadata": {},
   "outputs": [],
   "source": []
  }
 ],
 "metadata": {
  "kernelspec": {
   "display_name": "Python 3 (ipykernel)",
   "language": "python",
   "name": "python3"
  },
  "language_info": {
   "codemirror_mode": {
    "name": "ipython",
    "version": 3
   },
   "file_extension": ".py",
   "mimetype": "text/x-python",
   "name": "python",
   "nbconvert_exporter": "python",
   "pygments_lexer": "ipython3",
   "version": "3.11.5"
  }
 },
 "nbformat": 4,
 "nbformat_minor": 5
}
